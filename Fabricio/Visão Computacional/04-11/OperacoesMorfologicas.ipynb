{
  "cells": [
    {
      "cell_type": "markdown",
      "metadata": {
        "id": "VzBc69PJ8VXx"
      },
      "source": [
        "# Operações Morfológicas"
      ]
    },
    {
      "cell_type": "markdown",
      "metadata": {
        "id": "0iGQvHe38dVf"
      },
      "source": [
        "Inclusão dos pacotes."
      ]
    },
    {
      "cell_type": "code",
      "execution_count": 1,
      "metadata": {
        "id": "6mbGvqjc8edN"
      },
      "outputs": [],
      "source": [
        "import numpy as np\n",
        "import matplotlib.pyplot as plt\n",
        "import cv2"
      ]
    },
    {
      "cell_type": "markdown",
      "metadata": {
        "id": "iPnp2ljc8jqc"
      },
      "source": [
        "Considere que a imagem **parafuso.jpg** foi capturada por um sistema de visão que possui uma resolução hipotética de 100 ppi (pontos por polegada).\n",
        "Sabendo disso, elabore um algoritmo para calcular:\n",
        "\n",
        "\n",
        "*   a área da seção tranversal do parafuso.\n",
        "*   o comprimento do parafuso (em mm)\n",
        "*   o diâmetro do corpo do parafuso (em mm)\n",
        "\n"
      ]
    },
    {
      "cell_type": "code",
      "execution_count": 67,
      "metadata": {},
      "outputs": [],
      "source": [
        "# elementoEstruturante = cv2.getStructuringElement(cv2.MORPH_RECT,(3,3))\n",
        "elementoEstruturante = cv2.getStructuringElement(cv2.MORPH_ELLIPSE,(7,7))\n",
        "# elementoEstruturante = cv2.getStructuringElement(cv2.MORPH_CROSS,(3,3))"
      ]
    },
    {
      "cell_type": "code",
      "execution_count": 86,
      "metadata": {
        "id": "BDajl6P4Crxp"
      },
      "outputs": [
        {
          "name": "stdout",
          "output_type": "stream",
          "text": [
            "width:  56.641999999999996\n",
            "height:  9.143999999999998\n",
            "area:  262.5439910399999\n"
          ]
        }
      ],
      "source": [
        "def inchToMilimiter(val):\n",
        "    return (val / 100) * 25.4\n",
        "\n",
        "img = cv2.imread('parafuso.jpg', cv2.IMREAD_GRAYSCALE)\n",
        "\n",
        "metodo = cv2.THRESH_BINARY_INV\n",
        "\n",
        "ret,imgb = cv2.threshold(img, 130, 255, metodo)\n",
        "\n",
        "img4 = cv2.morphologyEx(imgb, cv2.MORPH_CLOSE, elementoEstruturante)\n",
        "\n",
        "countoursW, _ = cv2.findContours(img4, cv2.RETR_EXTERNAL, cv2.CHAIN_APPROX_SIMPLE)\n",
        "countoursH, _ = cv2.findContours(img4[0:,50:], cv2.RETR_EXTERNAL, cv2.CHAIN_APPROX_SIMPLE)\n",
        "boundingW = cv2.boundingRect(countoursW[0])\n",
        "boundingH = cv2.boundingRect(countoursH[0])\n",
        "\n",
        "width = inchToMilimiter(boundingW[2])\n",
        "height = inchToMilimiter(boundingH[3])\n",
        "area = height**2 * 3.14\n",
        "\n",
        "print(\"width: \", width)\n",
        "print(\"height: \", height)\n",
        "print(\"area: \", area)"
      ]
    },
    {
      "cell_type": "markdown",
      "metadata": {
        "id": "G6tZn7Es3KoD"
      },
      "source": [
        "---\n",
        "\n",
        "<h1>Equipe</h1>\n",
        "\n",
        "**Aluno 1**: Fabricio Bertoncello Filho (26648849)\n",
        "\n",
        "**Aluno 2**: Lucas Guimarães Moreira (26681307)\n",
        "\n",
        "**Aluno 3**: Bruno Dalagnol (25766201)\n",
        "\n",
        "**Aluno 4**: Renato Leal de Araujo (26723573)\n"
      ]
    }
  ],
  "metadata": {
    "colab": {
      "provenance": []
    },
    "kernelspec": {
      "display_name": "Python 3",
      "name": "python3"
    },
    "language_info": {
      "codemirror_mode": {
        "name": "ipython",
        "version": 3
      },
      "file_extension": ".py",
      "mimetype": "text/x-python",
      "name": "python",
      "nbconvert_exporter": "python",
      "pygments_lexer": "ipython3",
      "version": "3.10.6"
    }
  },
  "nbformat": 4,
  "nbformat_minor": 0
}
